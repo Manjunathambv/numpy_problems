{
 "cells": [
  {
   "cell_type": "code",
   "execution_count": 2,
   "id": "2b19c831",
   "metadata": {},
   "outputs": [],
   "source": [
    "import numpy as np"
   ]
  },
  {
   "cell_type": "code",
   "execution_count": 3,
   "id": "b4706bc4",
   "metadata": {},
   "outputs": [
    {
     "data": {
      "text/plain": [
       "array([[1, 2, 3],\n",
       "       [4, 5, 6],\n",
       "       [7, 8, 9]])"
      ]
     },
     "execution_count": 3,
     "metadata": {},
     "output_type": "execute_result"
    }
   ],
   "source": [
    "\"\"\"\n",
    "Problem Statement:\n",
    "Given a 2D list, create a numpy 2D array using it.\n",
    "Note: Given 2D list is [[1, 2, 3], [4, 5, 6], [7, 8, 9]]\n",
    "Print the Numpy array.\n",
    "Output Format :\n",
    "numpyArray\n",
    "\"\"\"\n",
    "arr = [[1, 2, 3], [4, 5, 6], [7, 8, 9]]\n",
    "np.array(arr)"
   ]
  },
  {
   "cell_type": "code",
   "execution_count": 13,
   "id": "e0d19975",
   "metadata": {},
   "outputs": [
    {
     "data": {
      "text/plain": [
       "array([0, 0, 0, 0, 1, 0, 0, 0, 0, 0], dtype=uint8)"
      ]
     },
     "execution_count": 13,
     "metadata": {},
     "output_type": "execute_result"
    }
   ],
   "source": [
    "\"\"\"\n",
    "Problem Statement:\n",
    "Create an integer array of size 10, where all the values should be 0 but the fifth value should be 1.\n",
    "Print the elements of array.\n",
    "Output Format :\n",
    "element1 element2 element3 ... \n",
    "\"\"\"\n",
    "(np.arange(10) == 4).view(np.uint8)\n"
   ]
  },
  {
   "cell_type": "code",
   "execution_count": 14,
   "id": "9b5f0ba2",
   "metadata": {},
   "outputs": [],
   "source": [
    "array = np.array([0, 0, 0, 0, 1, 0, 0, 0, 0, 0], dtype = int)"
   ]
  },
  {
   "cell_type": "code",
   "execution_count": 15,
   "id": "c37c2ee7",
   "metadata": {},
   "outputs": [
    {
     "data": {
      "text/plain": [
       "10"
      ]
     },
     "execution_count": 15,
     "metadata": {},
     "output_type": "execute_result"
    }
   ],
   "source": [
    "len(array)"
   ]
  },
  {
   "cell_type": "code",
   "execution_count": 16,
   "id": "cb40fc6d",
   "metadata": {},
   "outputs": [
    {
     "ename": "ValueError",
     "evalue": "low >= high",
     "output_type": "error",
     "traceback": [
      "\u001b[1;31m---------------------------------------------------------------------------\u001b[0m",
      "\u001b[1;31mValueError\u001b[0m                                Traceback (most recent call last)",
      "\u001b[1;32m<ipython-input-16-bc8d121e5f85>\u001b[0m in \u001b[0;36m<module>\u001b[1;34m\u001b[0m\n\u001b[1;32m----> 1\u001b[1;33m \u001b[0mnp\u001b[0m\u001b[1;33m.\u001b[0m\u001b[0mrandom\u001b[0m\u001b[1;33m.\u001b[0m\u001b[0mrandint\u001b[0m\u001b[1;33m(\u001b[0m\u001b[1;36m10\u001b[0m\u001b[1;33m,\u001b[0m \u001b[1;36m4\u001b[0m\u001b[1;33m)\u001b[0m\u001b[1;33m\u001b[0m\u001b[1;33m\u001b[0m\u001b[0m\n\u001b[0m",
      "\u001b[1;32mmtrand.pyx\u001b[0m in \u001b[0;36mnumpy.random.mtrand.RandomState.randint\u001b[1;34m()\u001b[0m\n",
      "\u001b[1;32m_bounded_integers.pyx\u001b[0m in \u001b[0;36mnumpy.random._bounded_integers._rand_int32\u001b[1;34m()\u001b[0m\n",
      "\u001b[1;31mValueError\u001b[0m: low >= high"
     ]
    }
   ],
   "source": [
    "np.random.randint(10, 4)"
   ]
  },
  {
   "cell_type": "code",
   "execution_count": 17,
   "id": "70b8a238",
   "metadata": {},
   "outputs": [
    {
     "data": {
      "text/plain": [
       "0.8551710581228856"
      ]
     },
     "execution_count": 17,
     "metadata": {},
     "output_type": "execute_result"
    }
   ],
   "source": [
    "np.random.rand()"
   ]
  },
  {
   "cell_type": "code",
   "execution_count": 19,
   "id": "b81968ab",
   "metadata": {},
   "outputs": [
    {
     "data": {
      "text/plain": [
       "array([ 9, 10, 11, 12, 13, 14, 15, 16, 17, 18, 19, 20, 21, 22, 23, 24, 25,\n",
       "       26, 27, 28, 29, 30, 31, 32, 33, 34, 35, 36, 37, 38, 39, 40, 41, 42,\n",
       "       43, 44, 45, 46, 47, 48, 49])"
      ]
     },
     "execution_count": 19,
     "metadata": {},
     "output_type": "execute_result"
    }
   ],
   "source": [
    "\"\"\"\n",
    "Problem Statement:\n",
    "Create an array with values ranging consecutively from 9 to 49 (both inclusive).\n",
    "Print the Numpy array.\n",
    "Output Format :\n",
    "element1 element2 element3 ...\n",
    "\"\"\"\n",
    "\n",
    "np.arange(9, 50)"
   ]
  },
  {
   "cell_type": "code",
   "execution_count": 20,
   "id": "01238dc3",
   "metadata": {},
   "outputs": [
    {
     "name": "stdout",
     "output_type": "stream",
     "text": [
      "[[1. 0. 0. 0. 0. 0.]\n",
      " [0. 1. 0. 0. 0. 0.]\n",
      " [0. 0. 1. 0. 0. 0.]\n",
      " [0. 0. 0. 1. 0. 0.]\n",
      " [0. 0. 0. 0. 1. 0.]]\n"
     ]
    }
   ],
   "source": [
    "\"\"\"\n",
    "Problem Statement:\n",
    "Create a matrix having diagonal elements as 1 and all other elements as 0 of size (5, 6).\n",
    "Print the Numpy array.\n",
    "Output Format :\n",
    "numpyArray\n",
    "\"\"\"\n",
    "import numpy as np\n",
    "ans = np.eye(5,6)\n",
    "print(ans)"
   ]
  },
  {
   "cell_type": "code",
   "execution_count": 36,
   "id": "38b87df3",
   "metadata": {},
   "outputs": [
    {
     "name": "stdout",
     "output_type": "stream",
     "text": [
      "0.00m\n",
      "0.62m\n",
      "1.25m\n",
      "1.88m\n",
      "2.50m\n",
      "3.12m\n",
      "3.75m\n",
      "4.38m\n",
      "5.00m\n"
     ]
    }
   ],
   "source": [
    "\"\"\"\n",
    "Problem Statement:\n",
    "You are given a rope of length 5m. Cut the rope into 9 parts such that each part is of equal length.\n",
    "Note:Array elements are the points where cut is to be made and round upto 2 decimal place.\n",
    "Print the array element.\n",
    "Output Format :\n",
    "element1 \n",
    "element2 \n",
    "element3\n",
    ".\n",
    ".\n",
    "\"\"\"\n",
    "\n",
    "ans = np.linspace(0, 5, 9, )\n",
    "\n",
    "for a in ans:\n",
    "    print(\"{:.2f}m\".format(a))"
   ]
  },
  {
   "cell_type": "code",
   "execution_count": 37,
   "id": "0ec2a38e",
   "metadata": {},
   "outputs": [],
   "source": [
    "\"\"\"\n",
    "Problem Statement:\n",
    "Given a 2D integer array size (4, 5) with name input_?\n",
    "Print elements of highlighted matrix\n",
    "Alt Text Alt Text Alt Text Alt Text\n",
    "\n",
    "Output Format :\n",
    "element1 element2 element3 . . .\n",
    "element1 element2 element3 . . .\n",
    "element1 element2 element3 . . .\n",
    "element1 element2 element3 . . .\n",
    "\"\"\"\n",
    "import numpy as np\n",
    "input_=np.arange(1,21,1)\n",
    "input_=input_.reshape(4,5)"
   ]
  },
  {
   "cell_type": "code",
   "execution_count": 38,
   "id": "5c9ab446",
   "metadata": {},
   "outputs": [
    {
     "data": {
      "text/plain": [
       "array([[ 1,  2,  3,  4,  5],\n",
       "       [ 6,  7,  8,  9, 10],\n",
       "       [11, 12, 13, 14, 15],\n",
       "       [16, 17, 18, 19, 20]])"
      ]
     },
     "execution_count": 38,
     "metadata": {},
     "output_type": "execute_result"
    }
   ],
   "source": [
    "input_"
   ]
  },
  {
   "cell_type": "code",
   "execution_count": 42,
   "id": "41406655",
   "metadata": {},
   "outputs": [
    {
     "name": "stdout",
     "output_type": "stream",
     "text": [
      "[11 12 13]\n",
      "[ 9 14 19]\n",
      "[[11 12 13 14 15]\n",
      " [16 17 18 19 20]]\n",
      "[[ 7  8]\n",
      " [12 13]]\n"
     ]
    }
   ],
   "source": [
    "print(input_[2, 0:3])\n",
    "print(input_[1:, 3])\n",
    "print(input_[2:, :])\n",
    "print(input_[1:3, 1:3])"
   ]
  },
  {
   "cell_type": "code",
   "execution_count": 45,
   "id": "a7ea6161",
   "metadata": {},
   "outputs": [
    {
     "name": "stdout",
     "output_type": "stream",
     "text": [
      "11 12 13 "
     ]
    }
   ],
   "source": [
    "for i in input_[2, 0:3]:\n",
    "    print(i, end=\" \")\n",
    "    \n"
   ]
  },
  {
   "cell_type": "code",
   "execution_count": 46,
   "id": "75c8bd61",
   "metadata": {},
   "outputs": [
    {
     "name": "stdout",
     "output_type": "stream",
     "text": [
      "9 14 19 "
     ]
    }
   ],
   "source": [
    "for i in input_[1:, 3]:\n",
    "    print(i, end=\" \")"
   ]
  },
  {
   "cell_type": "code",
   "execution_count": 56,
   "id": "dfb9cc88",
   "metadata": {},
   "outputs": [
    {
     "name": "stdout",
     "output_type": "stream",
     "text": [
      "11 12 13 14 15 16 17 18 19 20 "
     ]
    }
   ],
   "source": [
    "for i in input_[2:, :]:\n",
    "    for j in i:\n",
    "        print(j, end=\" \")\n",
    "    "
   ]
  },
  {
   "cell_type": "code",
   "execution_count": 57,
   "id": "48091c84",
   "metadata": {},
   "outputs": [
    {
     "name": "stdout",
     "output_type": "stream",
     "text": [
      "7 8 12 13 "
     ]
    }
   ],
   "source": [
    "for i in (input_[1:3, 1:3]):\n",
    "    for j in i:\n",
    "        print(j, end=\" \")"
   ]
  },
  {
   "cell_type": "code",
   "execution_count": 70,
   "id": "6bf98ba2",
   "metadata": {},
   "outputs": [
    {
     "name": "stdout",
     "output_type": "stream",
     "text": [
      "0 1 4\n"
     ]
    }
   ],
   "source": [
    "\"\"\"\n",
    "Non-Zero elements\n",
    "Send Feedback\n",
    "Problem Statemnt:\n",
    "Find indices of non-zero elements from the array [1,2,0,0,4,0] ?\n",
    "Print the index of non-zero elements.\n",
    "Output Format :\n",
    "index1 index2 index3 ... \n",
    "\"\"\"\n",
    "\n",
    "arr = np.array([1,2,0,0,4,0], dtype = int)\n",
    "arr[arr != 0]\n",
    "ans = np.where(arr != 0)[0]\n",
    "# print(ans)\n",
    "print(*ans.tolist())"
   ]
  },
  {
   "cell_type": "code",
   "execution_count": 74,
   "id": "ad06c6f5",
   "metadata": {},
   "outputs": [
    {
     "name": "stdout",
     "output_type": "stream",
     "text": [
      "1 4 7 "
     ]
    }
   ],
   "source": [
    "\"\"\"\n",
    "Multiples of 3\n",
    "Send Feedback\n",
    "Problem Statement:\n",
    "Given an integer array of size 10. Print the index of elements which are multiple of 3.\n",
    "Note: Generate the following array\n",
    "array([ 1,  3,  5,  7,  9, 11, 13, 15, 17, 19])\n",
    "Print the index of elements.\n",
    "Output Format :\n",
    "index1 index2 index3 ...\n",
    "\"\"\"\n",
    "arr = np.array([ 1,  3,  5,  7,  9, 11, 13, 15, 17, 19], dtype = int)\n",
    "ans = np.where(arr % 3 == 0)[0]\n",
    "for i in ans:\n",
    "    print(i, end=\" \")"
   ]
  },
  {
   "cell_type": "code",
   "execution_count": 91,
   "id": "0c8f4e3e",
   "metadata": {},
   "outputs": [
    {
     "name": "stdout",
     "output_type": "stream",
     "text": [
      "-1 2 -1 4 -1 6 -1 8 -1 10\n"
     ]
    }
   ],
   "source": [
    "\"\"\"\n",
    "Odd elements\n",
    "Send Feedback\n",
    "Problem Statemnt:\n",
    "Given an integer array of size 10. Replace the odd number in numpy array with -1 ?\n",
    "Note: Generate the following array\n",
    "array([1, 2, 3, 4, 5, 6, 7, 8, 9, 10])\n",
    "Print the Numpy array.\n",
    "Output Format :\n",
    "firstElement secondElement  ... \n",
    "\"\"\"\n",
    "arr = np.array([1, 2, 3, 4, 5, 6, 7, 8, 9, 10], dtype = int)\n",
    "arr[(arr % 2 != 0)] = -1\n",
    "print(*arr)"
   ]
  },
  {
   "cell_type": "code",
   "execution_count": 111,
   "id": "1f7630b8",
   "metadata": {},
   "outputs": [
    {
     "name": "stdout",
     "output_type": "stream",
     "text": [
      "11\n",
      "2\n",
      "13\n",
      "4\n",
      "15\n",
      "6\n",
      "0\n",
      "8\n",
      "19\n"
     ]
    }
   ],
   "source": [
    "\"\"\"\n",
    "Replace Max\n",
    "Send Feedback\n",
    "Problem Statemnt:\n",
    "Given an integer array of size 9 and replace the first occurrence of maximum value by 0?\n",
    "Note: Generate the following array\n",
    "array([11, 2, 13, 4, 15, 6, 27, 8, 19])\n",
    "Print the Numpy array.\n",
    "Output Format :\n",
    "firstElement\n",
    "secondElement \n",
    "... \n",
    "\"\"\"\n",
    "arr = np.array([11, 2, 13, 4, 15, 6, 27, 8, 19], dtype = int)\n",
    "arr[arr.argmax()] = 0\n",
    "for i in arr:\n",
    "    print(i)"
   ]
  },
  {
   "cell_type": "code",
   "execution_count": 131,
   "id": "97b333ce",
   "metadata": {},
   "outputs": [
    {
     "name": "stdout",
     "output_type": "stream",
     "text": [
      "[ 1  2  3  4  5  6  7  8  9 10]\n"
     ]
    }
   ],
   "source": [
    "\"\"\"\n",
    "Negate Elements\n",
    "Send Feedback\n",
    "Problem Statemnt:\n",
    "Given a 1D array, negate all elements which are between 3 and 8 (both inclusive)?\n",
    "Note: Generate the following array\n",
    "array([1, 2, 3, 4, 5, 6, 7, 8, 9, 10])\n",
    "Print the Numpy array.\n",
    "Output Format :\n",
    "firstElement \n",
    "secondElement  \n",
    "... \n",
    "\"\"\"\n",
    "\n",
    "arr = np.array([1, 2, 3, 4, 5, 6, 7, 8, 9, 10])\n",
    "arr[(3 < arr) & (arr <= 8)] *= -1\n",
    "print(arr)"
   ]
  },
  {
   "cell_type": "code",
   "execution_count": 143,
   "id": "53247628",
   "metadata": {},
   "outputs": [
    {
     "name": "stdout",
     "output_type": "stream",
     "text": [
      "15 156\n",
      "19 180\n",
      "20 162\n",
      "21 157\n",
      "22 158\n",
      "23 179\n",
      "16 182\n",
      "18 183\n",
      "20 159\n",
      "15 160\n",
      "17 172\n"
     ]
    }
   ],
   "source": [
    "\"\"\"\n",
    "Height\n",
    "Send Feedback\n",
    "Problem Statemnt:\n",
    "Given age and height of 20 students in two different numpy arrays with name age and height (in cms). Print the age of those students whose height is above 155 cm.\n",
    "Print the Numpy array.\n",
    "Output Format :\n",
    "age1 height1 \n",
    "age2 height2 \n",
    "... \n",
    "\"\"\"\n",
    "age=np.array([15,17,19,20,14,21,16,19,13,20,22,23,21,16,18,19,20,15,17,18])\n",
    "height=np.array([156,144,180,162,152,157,154,155,151,150,158,179,126,182,183,154,159,160,172,149])\n",
    "ind = np.where(height > 155)\n",
    "\n",
    "for i in ind[0]:\n",
    "    print(age[i], height[i])"
   ]
  },
  {
   "cell_type": "code",
   "execution_count": 148,
   "id": "1ef3d5e2",
   "metadata": {},
   "outputs": [],
   "source": [
    "\"\"\"\n",
    "Problem Statemnt:\n",
    "Sort a given 2D array of shape (4, 5) by 2nd column (i.e. column at index 1) in ascending order.\n",
    "That means, we should re-arrange complete row based on 2nd columns' values.\n",
    "Given 2D array is:\n",
    " [[21 20 19 18 17]\n",
    "  [16 15 14 13 12]\n",
    "  [11 10  9  8  7]\n",
    "  [ 6  5  4  3  2]]\n",
    "Print the 2D array in sorted order.\n",
    "Note you have to generate the 2D Array.Here 2nd column means column present at index 1.\n",
    "Output Format :\n",
    "[[ 6  5  4  3  2]\n",
    "[11 10  9  8  7]\n",
    "[16 15 14 13 12]\n",
    "[21 20 19 18 17]]\n",
    "\"\"\"\n",
    "\n",
    "arr = np.array([[21, 20, 19, 18, 17],\n",
    "  [16, 15, 14, 13, 12],\n",
    "  [11, 10,  9,  8,  7],\n",
    "  [ 6,  5,  4,  3,  2]])\n",
    "arr[arr[:,1].argsort()]"
   ]
  },
  {
   "cell_type": "code",
   "execution_count": 155,
   "id": "d2ea8cd2",
   "metadata": {},
   "outputs": [
    {
     "data": {
      "text/plain": [
       "array([[ 6,  5,  4,  3,  2],\n",
       "       [11, 10,  9,  8,  7],\n",
       "       [16, 15, 14, 13, 12],\n",
       "       [21, 20, 19, 18, 17]])"
      ]
     },
     "execution_count": 155,
     "metadata": {},
     "output_type": "execute_result"
    }
   ],
   "source": [
    "arr[arr[:,1].argsort()]"
   ]
  },
  {
   "cell_type": "code",
   "execution_count": 147,
   "id": "b60e32d0",
   "metadata": {},
   "outputs": [
    {
     "data": {
      "text/plain": [
       "array([[17, 18, 19, 20, 21],\n",
       "       [12, 13, 14, 15, 16],\n",
       "       [ 7,  8,  9, 10, 11],\n",
       "       [ 2,  3,  4,  5,  6]])"
      ]
     },
     "execution_count": 147,
     "metadata": {},
     "output_type": "execute_result"
    }
   ],
   "source": [
    "arr"
   ]
  },
  {
   "cell_type": "code",
   "execution_count": null,
   "id": "b2ad2705",
   "metadata": {},
   "outputs": [],
   "source": []
  }
 ],
 "metadata": {
  "kernelspec": {
   "display_name": "Python 3",
   "language": "python",
   "name": "python3"
  },
  "language_info": {
   "codemirror_mode": {
    "name": "ipython",
    "version": 3
   },
   "file_extension": ".py",
   "mimetype": "text/x-python",
   "name": "python",
   "nbconvert_exporter": "python",
   "pygments_lexer": "ipython3",
   "version": "3.8.8"
  }
 },
 "nbformat": 4,
 "nbformat_minor": 5
}
